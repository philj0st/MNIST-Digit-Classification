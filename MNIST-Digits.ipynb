{
 "cells": [
  {
   "cell_type": "markdown",
   "metadata": {},
   "source": [
    "## Load the data into RAM\n",
    "\n",
    "CSV\n"
   ]
  },
  {
   "cell_type": "code",
   "execution_count": 8,
   "metadata": {},
   "outputs": [
    {
     "data": {
      "text/plain": [
       "((60000, 784), (10000, 784), (60000,), (10000,))"
      ]
     },
     "execution_count": 8,
     "metadata": {},
     "output_type": "execute_result"
    }
   ],
   "source": [
    "import numpy as np\n",
    "import matplotlib.pyplot as plt\n",
    "# `np.uint8` would suffice to represent the greyscale value for each pixel \n",
    "# but because sklearn uses double precision internally for a lot of algorithms, \n",
    "# we're gonna use `np.float64` from the beginning.\n",
    "test_data = np.genfromtxt('mnist_test.csv', delimiter=',', dtype=np.float64)\n",
    "train_data = np.genfromtxt('mnist_train.csv', delimiter=',', dtype=np.float64)\n",
    "\n",
    "# first column of each row is the digit we want to recognize later\n",
    "y_test = test_data[:,0]\n",
    "# the rest of the row are the 28x28 greyscale values\n",
    "X_test = test_data[:,1:].reshape((-1,28*28))\n",
    "\n",
    "# same for the training data\n",
    "y_train = train_data[:,0]\n",
    "X_train = train_data[:,1:].reshape((-1,28*28))\n",
    "\n",
    "# see what we ended up with\n",
    "X_train.shape, X_test.shape, y_train.shape, y_test.shape"
   ]
  },
  {
   "cell_type": "markdown",
   "metadata": {},
   "source": [
    "## Preprocessing\n",
    "\n",
    "First we examine the data at hand by looking at some digits."
   ]
  },
  {
   "cell_type": "code",
   "execution_count": null,
   "metadata": {},
   "outputs": [],
   "source": []
  }
 ],
 "metadata": {
  "kernelspec": {
   "display_name": "Python 3",
   "language": "python",
   "name": "python3"
  },
  "language_info": {
   "codemirror_mode": {
    "name": "ipython",
    "version": 3
   },
   "file_extension": ".py",
   "mimetype": "text/x-python",
   "name": "python",
   "nbconvert_exporter": "python",
   "pygments_lexer": "ipython3",
   "version": "3.8.3"
  }
 },
 "nbformat": 4,
 "nbformat_minor": 4
}
